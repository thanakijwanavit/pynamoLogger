{
 "cells": [
  {
   "cell_type": "code",
   "execution_count": null,
   "metadata": {},
   "outputs": [],
   "source": [
    "#hide\n",
    "import logging\n",
    "logging.basicConfig(level=logging.WARNING)"
   ]
  },
  {
   "cell_type": "markdown",
   "metadata": {},
   "source": [
    "# PynamoLogger\n",
    "> log information into a dynamodb, with dax support"
   ]
  },
  {
   "cell_type": "markdown",
   "metadata": {},
   "source": [
    "## Install"
   ]
  },
  {
   "cell_type": "markdown",
   "metadata": {},
   "source": [
    "`pip install pynamologger`<br>\n",
    "# view [Documentation](https://thanakijwanavit.github.io/pynamoLogger/)"
   ]
  },
  {
   "cell_type": "markdown",
   "metadata": {},
   "source": [
    "# Usage"
   ]
  },
  {
   "cell_type": "markdown",
   "metadata": {},
   "source": [
    "## create a dynamodb table \n",
    "#### indexKey\n",
    "* appName\n",
    "\n",
    "#### rangeKey\n",
    "* timestamp\n",
    "\n",
    "### Sam template\n",
    "put this in your template.yaml file under properties section<br>\n",
    "make sure that the table name is the same in Meta declaration\n",
    "```yaml\n",
    "YourLogTable:\n",
    "  Type: AWS::DynamoDB::Table\n",
    "  Properties:\n",
    "    AttributeDefinitions:\n",
    "      - AttributeName: appName\n",
    "        AttributeType: S\n",
    "      - AttributeName: timestamp\n",
    "        AttributeType: N\n",
    "    BillingMode: PAY_PER_REQUEST\n",
    "    TableName: <put your table name here>\n",
    "    KeySchema:\n",
    "      - AttributeName: appName\n",
    "        KeyType: HASH\n",
    "      - AttributeName: timestamp\n",
    "        KeyType: RANGE\n",
    "\n",
    "```\n",
    "### create using pynamodb api\n",
    "```python\n",
    "Logger.create_table()\n",
    "```"
   ]
  },
  {
   "cell_type": "markdown",
   "metadata": {},
   "source": [
    "## class meta definition"
   ]
  },
  {
   "cell_type": "code",
   "execution_count": null,
   "metadata": {},
   "outputs": [],
   "source": [
    "from pynamoLogger.logger import PynamoLogger\n",
    "class Logger(PynamoLogger):\n",
    "  class Meta:\n",
    "    table_name = 'member-database-log-dev-manual' # put your table name\n",
    "    region = 'ap-southeast-1' #put your region name\n",
    "    billing_mode = 'PAY_PER_REQUEST'\n",
    "    "
   ]
  },
  {
   "cell_type": "code",
   "execution_count": null,
   "metadata": {},
   "outputs": [],
   "source": [
    "# Logger.create_table()"
   ]
  },
  {
   "cell_type": "code",
   "execution_count": null,
   "metadata": {},
   "outputs": [
    {
     "data": {
      "text/plain": [
       "{'logId': 1603075789.054751,\n",
       " 'saveResult': {'ConsumedCapacity': {'CapacityUnits': 1.0,\n",
       "   'TableName': 'member-database-log-dev-manual'}}}"
      ]
     },
     "execution_count": null,
     "metadata": {},
     "output_type": "execute_result"
    }
   ],
   "source": [
    "Logger.log(appName = 'test', message = \"this is crazy\", responseObject = {'response': 'null response'})"
   ]
  },
  {
   "cell_type": "code",
   "execution_count": null,
   "metadata": {},
   "outputs": [
    {
     "data": {
      "text/plain": [
       "[{'appName': None,\n",
       "  'timestamp': 1603074235.103042,\n",
       "  'logMessage': 'this is crazy',\n",
       "  'requestObject': {'noValue': 'noValue'},\n",
       "  'responseObject': {'response': 'null response'}}]"
      ]
     },
     "execution_count": null,
     "metadata": {},
     "output_type": "execute_result"
    }
   ],
   "source": [
    "Logger.checkLog(appName = 'test', logId = '1603074235.103042')"
   ]
  }
 ],
 "metadata": {
  "kernelspec": {
   "display_name": "python38",
   "language": "python",
   "name": "python38"
  }
 },
 "nbformat": 4,
 "nbformat_minor": 4
}
