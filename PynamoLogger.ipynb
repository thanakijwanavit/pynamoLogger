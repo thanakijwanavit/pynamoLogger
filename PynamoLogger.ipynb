{
 "cells": [
  {
   "cell_type": "code",
   "execution_count": null,
   "metadata": {},
   "outputs": [],
   "source": [
    "#default_exp logger"
   ]
  },
  {
   "cell_type": "code",
   "execution_count": null,
   "metadata": {},
   "outputs": [],
   "source": [
    "#export\n",
    "import json\n",
    "import os\n",
    "from datetime import datetime as dt\n",
    "import boto3\n",
    "from pynamodb.models import Model\n",
    "from pynamodb.attributes import UnicodeAttribute, NumberAttribute, JSONAttribute"
   ]
  },
  {
   "cell_type": "code",
   "execution_count": null,
   "metadata": {},
   "outputs": [],
   "source": [
    "#export\n",
    "class PynamoLogger(Model):\n",
    "  ''' log changes to pynamo member '''\n",
    "  class Meta:\n",
    "    table_name = None\n",
    "    region = 'ap-southeast-1'\n",
    "  appName = UnicodeAttribute(hash_key = True)\n",
    "  timestamp = NumberAttribute(range_key=True)\n",
    "  logMessage = UnicodeAttribute()\n",
    "  requestObject = JSONAttribute( default = {'noValue': 'noValue'})\n",
    "  responseObject = JSONAttribute(default = {'noValue': 'noValue'})\n",
    "  def to_dict(self):\n",
    "    res = {}\n",
    "    for k in ['appName', 'timestamp', 'logMessage', 'requestObject', 'responseObject']:\n",
    "      res[k] = getattr(self, k)\n",
    "    return res  \n",
    "  @classmethod\n",
    "  def log(cls, message:str, appName = 'mockapp', \n",
    "          requestObject = {'request': \"none\"}, responseObject = {'message': 'not specified'}):\n",
    "    dynamoLogger = cls(\n",
    "        appName = appName,\n",
    "        timestamp = dt.now().timestamp(),\n",
    "        logMessage = message,\n",
    "        responseObject = responseObject\n",
    "    )\n",
    "    saveResult =  dynamoLogger.save()\n",
    "    return {'logId': dynamoLogger.timestamp, 'saveResult': saveResult}\n",
    "\n",
    "  @classmethod\n",
    "  def checkLog(cls, appName = 'mockapp', logId = '', logType = 'write', limit = 10):\n",
    "    return [log.to_dict() for log in cls.query(\n",
    "      hash_key = appName,\n",
    "      range_key_condition = cls.timestamp == float(logId) if logId else None,\n",
    "      limit = limit\n",
    "    )]\n",
    "    \n",
    "      \n"
   ]
  },
  {
   "cell_type": "markdown",
   "metadata": {},
   "source": [
    "# Usage"
   ]
  },
  {
   "cell_type": "code",
   "execution_count": null,
   "metadata": {},
   "outputs": [],
   "source": [
    "class Logger(PynamoLogger):\n",
    "  class Meta:\n",
    "    table_name = 'member-database-log-dev-manual'\n",
    "    region = 'ap-southeast-1'\n",
    "    billing_mode = 'PAY_PER_REQUEST'\n",
    "    "
   ]
  },
  {
   "cell_type": "code",
   "execution_count": null,
   "metadata": {},
   "outputs": [],
   "source": [
    "# Logger.create_table()"
   ]
  },
  {
   "cell_type": "code",
   "execution_count": null,
   "metadata": {},
   "outputs": [
    {
     "data": {
      "text/plain": [
       "{'logId': 1603075540.846738,\n",
       " 'saveResult': {'ConsumedCapacity': {'CapacityUnits': 1.0,\n",
       "   'TableName': 'member-database-log-dev-manual'}}}"
      ]
     },
     "execution_count": null,
     "metadata": {},
     "output_type": "execute_result"
    }
   ],
   "source": [
    "Logger.log(appName = 'test', message = \"this is crazy\", responseObject = {'response': 'null response'})"
   ]
  },
  {
   "cell_type": "code",
   "execution_count": null,
   "metadata": {},
   "outputs": [
    {
     "data": {
      "text/plain": [
       "[{'appName': None,\n",
       "  'timestamp': 1603074235.103042,\n",
       "  'logMessage': 'this is crazy',\n",
       "  'requestObject': {'noValue': 'noValue'},\n",
       "  'responseObject': {'response': 'null response'}}]"
      ]
     },
     "execution_count": null,
     "metadata": {},
     "output_type": "execute_result"
    }
   ],
   "source": [
    "Logger.checkLog(appName = 'test', logId = '1603074235.103042')"
   ]
  },
  {
   "cell_type": "code",
   "execution_count": null,
   "metadata": {},
   "outputs": [],
   "source": []
  }
 ],
 "metadata": {
  "kernelspec": {
   "display_name": "python38",
   "language": "python",
   "name": "python38"
  }
 },
 "nbformat": 4,
 "nbformat_minor": 4
}
